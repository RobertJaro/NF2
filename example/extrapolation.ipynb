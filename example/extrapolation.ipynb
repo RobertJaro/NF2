{
 "nbformat": 4,
 "nbformat_minor": 0,
 "metadata": {
  "colab": {
   "name": "NF2.ipynb",
   "provenance": []
  },
  "kernelspec": {
   "name": "python3",
   "display_name": "Python 3"
  },
  "language_info": {
   "name": "python"
  },
  "accelerator": "GPU"
 },
 "cells": [
  {
   "cell_type": "markdown",
   "source": [
    "# Neural Network Force-Free magnetic field extrapolation - NF2\n",
    "<img src=\"https://github.com/RobertJaro/NF2/blob/main/images/logo.jpg?raw=true\" width=\"150\" height=\"150\">\n",
    "\n",
    "This notebook uses NF2 to download and extrapolate vector magnetograms from SDO/HMI. Active regions and dates can be selected below. This version uses a pre-trained simulation as meta-state to achieve faster results.\n",
    "\n",
    "\n",
    "GitHub Page: https://github.com/RobertJaro/NF2\n"
   ],
   "metadata": {
    "id": "NY2f9O3T_Ovk"
   }
  },
  {
   "cell_type": "markdown",
   "source": [
    "## Installation and Imports"
   ],
   "metadata": {
    "id": "vGdTQSN6GA6z"
   }
  },
  {
   "cell_type": "code",
   "source": [
    "!pip install git+https://github.com/RobertJaro/NF2.git"
   ],
   "metadata": {
    "id": "l5_9wsH1cmsh"
   },
   "execution_count": null,
   "outputs": []
  },
  {
   "cell_type": "code",
   "execution_count": null,
   "metadata": {
    "id": "X1fOxaJS5xH6"
   },
   "outputs": [],
   "source": [
    "import glob\n",
    "import os\n",
    "\n",
    "import numpy as np\n",
    "from astropy.nddata import block_reduce\n",
    "from sunpy.map import Map\n",
    "\n",
    "import torch\n",
    "from nf2.train.trainer import NF2Trainer\n",
    "from nf2.data.download import download_HARP\n",
    "\n",
    "import drms\n",
    "\n",
    "from datetime import datetime\n",
    "\n",
    "from urllib import request"
   ]
  },
  {
   "cell_type": "markdown",
   "source": [
    "## Data download"
   ],
   "metadata": {
    "id": "dGrZwKgwGEro"
   }
  },
  {
   "cell_type": "markdown",
   "source": [
    "If you are looking for a NOAA active region, you can use the function below to search for the corrsponding HARP number."
   ],
   "metadata": {
    "id": "JzBnLWbEB88F"
   }
  },
  {
   "cell_type": "code",
   "source": [
    "# Find SHARP number for given NOAA\n",
    "#find_HARP(start_time, noaa_nums, client)"
   ],
   "metadata": {
    "id": "9RWS0x_n9Fnn"
   },
   "execution_count": null,
   "outputs": []
  },
  {
   "cell_type": "code",
   "source": [
    "#@title Active Region\n",
    "sharp_nr = 5011 #@param {type:\"number\"}\n",
    "year = 2015 #@param {type:\"integer\"}\n",
    "month = 1 #@param {type:\"integer\"}\n",
    "day = 3 #@param {type:\"integer\"}\n",
    "hour = 8 #@param {type:\"integer\"}\n",
    "minute = 0 #@param {type:\"number\"}\n",
    "\n",
    "date = datetime(year, month, day, hour, minute)\n",
    "\n",
    "download_dir = 'AR_5011' #@param {type:\"string\"}"
   ],
   "metadata": {
    "id": "nDUBoZ3-86en"
   },
   "execution_count": null,
   "outputs": []
  },
  {
   "cell_type": "markdown",
   "source": [
    "Downloading data requires an active registration at JSOC. http://jsoc.stanford.edu/ajax/register_email.html (free of charge)"
   ],
   "metadata": {
    "id": "Ufn-xIQBCKS8"
   }
  },
  {
   "cell_type": "code",
   "source": [
    "#@title Download Credentials\n",
    "jsoc_email = 'robert.jarolim@uni-graz.at' #@param {type:\"string\"}"
   ],
   "metadata": {
    "id": "wJRSB1NV--Bb"
   },
   "execution_count": null,
   "outputs": []
  },
  {
   "cell_type": "code",
   "source": [
    "client = drms.Client(email=jsoc_email, verbose=True)\n",
    "download_HARP(sharp_nr, date, download_dir, client)"
   ],
   "metadata": {
    "id": "92DkBePsCiTd"
   },
   "execution_count": null,
   "outputs": []
  },
  {
   "cell_type": "markdown",
   "source": [
    "For training new extrapolations it is favorable to start from a pre-trained state. We use the weights of a different extrapolation to initialize our model. Although trained for a different active region, this model already fullfills the divergence- and force-free constrains, which enables a faster convergence. To start your training from scratch set `meta_path = None`."
   ],
   "metadata": {
    "id": "wA7DzeTzGIsE"
   }
  },
  {
   "cell_type": "code",
   "execution_count": null,
   "outputs": [],
   "source": [
    "request.urlretrieve('http://kanzelhohe.uni-graz.at/nf2/meta.pt', 'meta.pt')"
   ],
   "metadata": {
    "collapsed": false,
    "pycharm": {
     "name": "#%%\n"
    }
   }
  },
  {
   "cell_type": "code",
   "execution_count": null,
   "outputs": [],
   "source": [
    "#@title Meta state\n",
    "meta_path = 'meta.pt'#@param {type:\"raw\"}\n",
    "\n",
    "\n",
    "## Parameter Setup"
   ],
   "metadata": {
    "collapsed": false,
    "pycharm": {
     "name": "#%%\n"
    }
   }
  },
  {
   "cell_type": "code",
   "source": [
    "#@title Paths\n",
    "base_path = None #@param {type:\"string\"}\n",
    "base_path = 'ar_%d_%s' % (sharp_nr, date.isoformat('T')) if base_path is None else base_path\n",
    "data_path = None #@param {type:\"string\"}\n",
    "data_path = download_dir if data_path is None else download_path"
   ],
   "metadata": {
    "id": "ovL6D7Az7_CO"
   },
   "execution_count": null,
   "outputs": []
  },
  {
   "cell_type": "code",
   "source": [
    "#@title Data Parameters\n",
    "bin = 2 #@param {type:\"integer\"}\n",
    "spatial_norm = 160  #@param {type:\"integer\"}\n",
    "height = 320  #@param {type:\"integer\"}\n",
    "b_norm = 2500  #@param {type:\"number\"}\n",
    "d_slice =  None#@param {type:\"raw\"}"
   ],
   "metadata": {
    "id": "ZLeXpnuP6DHq"
   },
   "execution_count": null,
   "outputs": []
  },
  {
   "cell_type": "code",
   "source": [
    "#@title Model Parameters\n",
    "dim = 256 #@param {type:\"number\"}"
   ],
   "metadata": {
    "id": "ZPAcHR4K6sU8"
   },
   "execution_count": null,
   "outputs": []
  },
  {
   "cell_type": "code",
   "source": [
    "#@title Training Parameters\n",
    "lambda_div = 0.1 #@param {type:\"number\"}\n",
    "lambda_ff = 0.1 #@param {type:\"number\"}\n",
    "# use 300 for meta training and 800 when trained from scratch\n",
    "epochs = 300 #@param {type:\"number\"}\n",
    "epochs = int(epochs)\n",
    "# decay not used for meta learning\n",
    "decay_epochs = 500 #@param {type:\"number\"}\n",
    "decay_epochs = int(decay_epochs)\n",
    "batch_size = 1e4 #@param {type:\"number\"}\n",
    "batch_size = int(batch_size)\n",
    "n_samples_epoch = 1e6 #@param {type:\"number\"}\n",
    "n_samples_epoch = int(n_samples_epoch)\n",
    "log_interval = 10 #@param {type:\"integer\"}\n",
    "validation_interval = 100 #@param {type:\"integer\"}\n",
    "potential = True #@param {type:\"boolean\"}\n",
    "\n"
   ],
   "metadata": {
    "id": "4KoeQGTp6t1B"
   },
   "execution_count": null,
   "outputs": []
  },
  {
   "cell_type": "code",
   "source": [
    "if isinstance(data_path, str):\n",
    "    hmi_p = sorted(glob.glob(os.path.join(data_path, '*Bp.fits')))[0]  # x\n",
    "    hmi_t = sorted(glob.glob(os.path.join(data_path, '*Bt.fits')))[0]  # y\n",
    "    hmi_r = sorted(glob.glob(os.path.join(data_path, '*Br.fits')))[0]  # z\n",
    "    err_p = sorted(glob.glob(os.path.join(data_path, '*Bp_err.fits')))[0]  # x\n",
    "    err_t = sorted(glob.glob(os.path.join(data_path, '*Bt_err.fits')))[0]  # y\n",
    "    err_r = sorted(glob.glob(os.path.join(data_path, '*Br_err.fits')))[0]  # z\n",
    "else:\n",
    "    hmi_p, err_p, hmi_r, err_r, hmi_t, err_t = data_path\n",
    "\n",
    "hmi_cube = np.stack([Map(hmi_p).data, -Map(hmi_t).data, Map(hmi_r).data]).transpose()\n",
    "error_cube = np.stack([Map(err_p).data, Map(err_t).data, Map(err_r).data]).transpose()\n",
    "if d_slice is not None:\n",
    "    hmi_cube = hmi_cube[d_slice[0]:d_slice[1], d_slice[2]:d_slice[3]]\n",
    "    error_cube = error_cube[d_slice[0]:d_slice[1], d_slice[2]:d_slice[3]]"
   ],
   "metadata": {
    "id": "40EndmUSGRJi"
   },
   "execution_count": null,
   "outputs": []
  },
  {
   "cell_type": "code",
   "source": [
    "# bin data\n",
    "if bin > 1:\n",
    "    hmi_cube = block_reduce(hmi_cube, (bin, bin, 1), np.mean)\n",
    "    error_cube = block_reduce(error_cube, (bin, bin, 1), np.mean)"
   ],
   "metadata": {
    "id": "m4T3D25bIg-m"
   },
   "execution_count": null,
   "outputs": []
  },
  {
   "cell_type": "markdown",
   "source": [
    "## Training"
   ],
   "metadata": {
    "id": "8KF8grbpIlnU"
   }
  },
  {
   "cell_type": "code",
   "source": [
    "trainer = NF2Trainer(base_path, hmi_cube, error_cube, height, spatial_norm, b_norm, dim,\n",
    "                     potential_boundary=potential, lambda_div=lambda_div, lambda_ff=lambda_ff,\n",
    "                     decay_epochs=decay_epochs, num_workers=4, meta_path=meta_path)"
   ],
   "metadata": {
    "id": "ZfEibAPOIoQS"
   },
   "execution_count": null,
   "outputs": []
  },
  {
   "cell_type": "code",
   "source": [
    "trainer.train(epochs, batch_size, n_samples_epoch, log_interval, validation_interval)"
   ],
   "metadata": {
    "id": "YsTm5P6fImfB"
   },
   "execution_count": null,
   "outputs": []
  },
  {
   "cell_type": "markdown",
   "source": [
    "## Evaluation"
   ],
   "metadata": {
    "id": "YT5wsu5xa5Nz"
   }
  },
  {
   "cell_type": "markdown",
   "source": [
    "## Export"
   ],
   "metadata": {
    "id": "ZyC2vVbza7fN"
   }
  },
  {
   "cell_type": "markdown",
   "source": [
    "VTK files can be used to visualize the extrapolation results (e.g., Paraview). We use `tvtk` for converting the files.\n",
    "The NF2 results require little storage (about 2 MB). It is faster to download the NF2 file and convert it on your local environment using the CPU resources.\n",
    "\n",
    "The code below can be used to convert files in Colab."
   ],
   "metadata": {
    "collapsed": false,
    "pycharm": {
     "name": "#%% md\n"
    }
   }
  },
  {
   "cell_type": "code",
   "source": [
    "!pip install vtk==9.0.1\n",
    "!pip install mayavi"
   ],
   "metadata": {
    "id": "RnN9andvcdF8"
   },
   "execution_count": null,
   "outputs": []
  },
  {
   "cell_type": "code",
   "source": [
    "from nf2.evaluation.unpack import load_cube\n",
    "from nf2.evaluation.vtk import save_vtk"
   ],
   "metadata": {
    "id": "2F0OBfVZbEMr"
   },
   "execution_count": null,
   "outputs": []
  },
  {
   "cell_type": "code",
   "source": [
    "model_path = base_path + '/extrapolation_result.nf2'\n",
    "vtk_path = base_path + '/extrapolation_result.vtk'\n",
    "\n",
    "device = torch.device('cuda') if torch.cuda.is_available() else torch.device('cpu')\n",
    "b = load_cube(model_path, device, progress=True)\n",
    "save_vtk(b, vtk_path, 'B')"
   ],
   "metadata": {
    "id": "aphkhjLva6NK"
   },
   "execution_count": null,
   "outputs": []
  }
 ]
}