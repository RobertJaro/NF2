{
 "nbformat": 4,
 "nbformat_minor": 0,
 "metadata": {
  "colab": {
   "provenance": [],
   "collapsed_sections": [
    "8KF8grbpIlnU",
    "YT5wsu5xa5Nz",
    "ZyC2vVbza7fN"
   ]
  },
  "kernelspec": {
   "name": "python3",
   "display_name": "Python 3"
  },
  "language_info": {
   "name": "python"
  },
  "accelerator": "GPU"
 },
 "cells": [
  {
   "cell_type": "markdown",
   "source": [
    "# Neural Network Force-Free magnetic field extrapolation - NF2\n",
    "<img src=\"https://github.com/RobertJaro/NF2/blob/main/images/logo.jpg?raw=true\" width=\"150\" height=\"150\">\n",
    "\n",
    "This notebook uses NF2 to download and extrapolate vector magnetograms from SDO/HMI. Active regions and dates can be selected below. This version uses a pre-trained simulation as meta-state to achieve faster results.\n",
    "\n",
    "\n",
    "GitHub Page: https://github.com/RobertJaro/NF2\n"
   ],
   "metadata": {
    "id": "NY2f9O3T_Ovk"
   }
  },
  {
   "cell_type": "markdown",
   "source": [
    "**Use**: A python notebook consists of code cells and embedded text descriptions. If you are using Google Colab all computations and installations are performed online, using free resources. You can execute the notebook cell-by-cell (hit `shift`+`return`), or run the full notebook by selecting `Runtime` --> `Run all` from the menu. Use the forms below to select the active region, date, and training parameters. For regular use you can keep the default training parameters."
   ],
   "metadata": {
    "id": "1jJgVkX-MXsr"
   }
  },
  {
   "cell_type": "markdown",
   "source": [
    "## Installation and Imports"
   ],
   "metadata": {
    "id": "vGdTQSN6GA6z"
   }
  },
  {
   "cell_type": "code",
   "source": [
    "!pip install git+https://github.com/RobertJaro/NF2.git"
   ],
   "metadata": {
    "id": "l5_9wsH1cmsh"
   },
   "execution_count": null,
   "outputs": []
  },
  {
   "cell_type": "code",
   "execution_count": null,
   "metadata": {
    "id": "X1fOxaJS5xH6"
   },
   "outputs": [],
   "source": [
    "# general imports\n",
    "import glob\n",
    "import os\n",
    "from datetime import datetime\n",
    "from dateutil.parser import parse\n",
    "import shutil\n",
    "\n",
    "# download\n",
    "import drms\n",
    "from urllib import request\n",
    "\n",
    "# data processing\n",
    "import numpy as np\n",
    "from astropy.nddata import block_reduce\n",
    "from sunpy.map import Map\n",
    "\n",
    "# deep learning\n",
    "import torch\n",
    "\n",
    "# NF2\n",
    "from nf2.train.trainer import NF2Trainer\n",
    "from nf2.data.download import download_HARP, find_HARP, donwload_ds\n",
    "from nf2.train.metric import *\n",
    "from nf2.evaluation.unpack import load_cube\n",
    "from nf2.evaluation.energy import get_free_mag_energy\n",
    "from nf2.data.loader import load_hmi_data\n",
    "\n",
    "# visualization\n",
    "from matplotlib import pyplot as plt"
   ]
  },
  {
   "cell_type": "markdown",
   "source": [
    "# Single extrapolation"
   ],
   "metadata": {
    "id": "oRTE5LxObmQH"
   }
  },
  {
   "cell_type": "markdown",
   "source": [
    "## Data download"
   ],
   "metadata": {
    "id": "dGrZwKgwGEro"
   }
  },
  {
   "cell_type": "markdown",
   "source": [
    "We start by downloading a vector magnetogram of SDO/HMI. Use the forms below to set your email, and specify the active region that you are interested in (SHARP + date)."
   ],
   "metadata": {
    "id": "oZ8WH-7ABW8J"
   }
  },
  {
   "cell_type": "markdown",
   "source": [
    "Downloading data requires an active registration at JSOC. http://jsoc.stanford.edu/ajax/register_email.html"
   ],
   "metadata": {
    "id": "Ufn-xIQBCKS8"
   }
  },
  {
   "cell_type": "code",
   "source": [
    "#@title Download Credentials\n",
    "jsoc_email = 'robert.jarolim@uni-graz.at' #@param {type:\"string\"}"
   ],
   "metadata": {
    "id": "wJRSB1NV--Bb",
    "cellView": "form"
   },
   "execution_count": null,
   "outputs": []
  },
  {
   "cell_type": "code",
   "source": [
    "client = drms.Client(email=jsoc_email, verbose=True)"
   ],
   "metadata": {
    "id": "92DkBePsCiTd"
   },
   "execution_count": null,
   "outputs": []
  },
  {
   "cell_type": "markdown",
   "source": [
    "If you are looking for a NOAA active region, you can use the function below to search for the corrsponding HARP number."
   ],
   "metadata": {
    "id": "JzBnLWbEB88F"
   }
  },
  {
   "cell_type": "code",
   "source": [
    "# Find SHARP number for given NOAA\n",
    "noaa_nums = [12673]\n",
    "start_time = datetime(2017, 9, 6, 8)\n",
    "find_HARP(start_time, noaa_nums, client)"
   ],
   "metadata": {
    "id": "9RWS0x_n9Fnn"
   },
   "execution_count": null,
   "outputs": []
  },
  {
   "cell_type": "code",
   "source": [
    "#@title Active Region\n",
    "sharp_nr = 7115 #@param {type:\"number\"}\n",
    "year = 2017 #@param {type:\"integer\"}\n",
    "month = 9 #@param {type:\"integer\"}\n",
    "day = 6 #@param {type:\"integer\"}\n",
    "hour = 8 #@param {type:\"integer\"}\n",
    "minute = 36 #@param {type:\"number\"}\n",
    "\n",
    "date = datetime(year, month, day, hour, minute)\n",
    "\n",
    "download_dir = 'AR_7115' #@param {type:\"string\"}"
   ],
   "metadata": {
    "id": "nDUBoZ3-86en",
    "cellView": "form"
   },
   "execution_count": null,
   "outputs": []
  },
  {
   "cell_type": "code",
   "source": [
    "download_HARP(sharp_nr, date, download_dir, client)"
   ],
   "metadata": {
    "id": "1W22DbZHzYm4"
   },
   "execution_count": null,
   "outputs": []
  },
  {
   "cell_type": "markdown",
   "source": [
    "## Training parameters"
   ],
   "metadata": {
    "id": "SlfpqlAyccTG"
   }
  },
  {
   "cell_type": "code",
   "execution_count": null,
   "outputs": [],
   "source": [
    "#@title Meta state\n",
    "meta_path = None#@param {type:\"raw\"}\n"
   ],
   "metadata": {
    "pycharm": {
     "name": "#%%\n"
    },
    "id": "5eTINIYpTFlT",
    "cellView": "form"
   }
  },
  {
   "cell_type": "code",
   "source": [
    "#@title Paths\n",
    "base_path = None #@param {type:\"string\"}\n",
    "base_path = 'ar_%d_%s' % (sharp_nr, date.isoformat('T')) if base_path is None else base_path\n",
    "data_path = None #@param {type:\"string\"}\n",
    "data_path = download_dir if data_path is None else data_path\n",
    "\n",
    "os.makedirs(base_path, exist_ok=True)\n",
    "os.makedirs(data_path, exist_ok=True)"
   ],
   "metadata": {
    "id": "ovL6D7Az7_CO",
    "cellView": "form"
   },
   "execution_count": null,
   "outputs": []
  },
  {
   "cell_type": "code",
   "source": [
    "#@title Data Parameters\n",
    "bin = 2 #@param {type:\"integer\"}\n",
    "spatial_norm = 160  #@param {type:\"integer\"}\n",
    "height = 160  #@param {type:\"integer\"}\n",
    "b_norm = 2500  #@param {type:\"number\"}\n",
    "d_slice =  None#@param {type:\"raw\"}"
   ],
   "metadata": {
    "id": "ZLeXpnuP6DHq",
    "cellView": "form"
   },
   "execution_count": null,
   "outputs": []
  },
  {
   "cell_type": "code",
   "source": [
    "#@title Model Parameters\n",
    "dim = 256 #@param {type:\"number\"}"
   ],
   "metadata": {
    "id": "ZPAcHR4K6sU8",
    "cellView": "form"
   },
   "execution_count": null,
   "outputs": []
  },
  {
   "cell_type": "code",
   "source": [
    "#@title Training Parameters\n",
    "lambda_div = 0.1 #@param {type:\"number\"}\n",
    "lambda_ff = 0.1 #@param {type:\"number\"}\n",
    "iterations = 8e4 #@param {type:\"number\"}\n",
    "iterations = int(iterations)\n",
    "decay_iterations = 5e4 #@param {type:\"number\"}\n",
    "decay_iterations = int(decay_iterations)\n",
    "batch_size = 1e4 #@param {type:\"number\"}\n",
    "batch_size = int(batch_size)\n",
    "log_interval = 1e4 #@param {type:\"number\"}\n",
    "log_interval = int(log_interval)\n",
    "validation_interval = 1e4 #@param {type:\"number\"}\n",
    "validation_interval = int(validation_interval)\n",
    "potential = True #@param {type:\"boolean\"}\n",
    "\n"
   ],
   "metadata": {
    "id": "4KoeQGTp6t1B",
    "cellView": "form"
   },
   "execution_count": null,
   "outputs": []
  },
  {
   "cell_type": "markdown",
   "source": [
    "## Training / Extrapolation"
   ],
   "metadata": {
    "id": "8KF8grbpIlnU"
   }
  },
  {
   "cell_type": "markdown",
   "source": [
    "Before we start the extrapolation we need to process the downloaded data. The model requires the vector magnetogram and the corresponding error map. If specified, the sub-region is extracted and the data is binned (default bin 2)."
   ],
   "metadata": {
    "id": "WD8cJ9ZEC7E2"
   }
  },
  {
   "cell_type": "code",
   "source": [
    "hmi_cube, error_cube, meta_info = load_hmi_data(data_path)\n",
    "\n",
    "if d_slice is not None:\n",
    "    hmi_cube = hmi_cube[d_slice[0]:d_slice[1], d_slice[2]:d_slice[3]]\n",
    "    error_cube = error_cube[d_slice[0]:d_slice[1], d_slice[2]:d_slice[3]]"
   ],
   "metadata": {
    "id": "40EndmUSGRJi"
   },
   "execution_count": null,
   "outputs": []
  },
  {
   "cell_type": "code",
   "source": [
    "# bin data\n",
    "if bin > 1:\n",
    "    hmi_cube = block_reduce(hmi_cube, (bin, bin, 1), np.mean)\n",
    "    error_cube = block_reduce(error_cube, (bin, bin, 1), np.mean)"
   ],
   "metadata": {
    "id": "m4T3D25bIg-m"
   },
   "execution_count": null,
   "outputs": []
  },
  {
   "cell_type": "markdown",
   "source": [
    "The trainer initializes the model and computest the initial potential field boundary."
   ],
   "metadata": {
    "id": "hndKgarZHjzK"
   }
  },
  {
   "cell_type": "code",
   "source": [
    "trainer = NF2Trainer(base_path, hmi_cube, error_cube, height, spatial_norm, b_norm,\n",
    "                     meta_info=meta_info, dim=dim,\n",
    "                     use_potential_boundary=potential, lambda_div=lambda_div, lambda_ff=lambda_ff,\n",
    "                     decay_iterations=decay_iterations, meta_path=meta_path)"
   ],
   "metadata": {
    "id": "ZfEibAPOIoQS"
   },
   "execution_count": null,
   "outputs": []
  },
  {
   "cell_type": "markdown",
   "source": [
    "In the menu on the left you can find the directory with logged results. After the initialization you should find the target magnetogram for training. For the default setting this image is generated."
   ],
   "metadata": {
    "id": "jpLfwPGwFUPk"
   }
  },
  {
   "cell_type": "markdown",
   "source": [
    "![image.png](data:image/png;base64,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)"
   ],
   "metadata": {
    "id": "x8SE36UCFuYI"
   }
  },
  {
   "cell_type": "markdown",
   "source": [
    "Now we can start the training. This requires about 800-1000 epochs for the training from scratch and 100-300 epochs if you start from the meta state. Every 100 epochs the total divergence and sigma angle are logged, which can be used to estimate for the model performance. The model is saved in the same interval. You can always train longer if you still note an improvement."
   ],
   "metadata": {
    "id": "CwAd1rvJHsJJ"
   }
  },
  {
   "cell_type": "markdown",
   "source": [
    "**Note:** During training make sure to download 'checkpoint.pt', in case the Colab runtime interrupts. If this file is present in the directory, the training will continued from the last save state. The logged images show horizontal slices through the volume, scaled by their maximum and minimum value."
   ],
   "metadata": {
    "id": "JB7iUZJ4x0Ot"
   }
  },
  {
   "cell_type": "code",
   "source": [
    "trainer.train(iterations, batch_size, log_interval, validation_interval, num_workers=os.cpu_count())"
   ],
   "metadata": {
    "id": "YsTm5P6fImfB"
   },
   "execution_count": null,
   "outputs": []
  },
  {
   "cell_type": "markdown",
   "source": [
    "## Evaluation"
   ],
   "metadata": {
    "id": "YT5wsu5xa5Nz"
   }
  },
  {
   "cell_type": "markdown",
   "source": [
    "If you want to skip the training you can use the line below to download the example solution."
   ],
   "metadata": {
    "id": "U-YDUsO5Vq-L"
   }
  },
  {
   "cell_type": "code",
   "source": [
    "# request.urlretrieve('http://kanzelhohe.uni-graz.at/nf2/example_7115.nf2', 'example_7115.nf2')\n",
    "# shutil.move('example_7115.nf2', os.path.join(base_path, 'extrapolation_result.nf2'))"
   ],
   "metadata": {
    "id": "Sn6MOMGtVqZc"
   },
   "execution_count": null,
   "outputs": []
  },
  {
   "cell_type": "markdown",
   "source": [
    "It is important that the resutls are checked after the extrapolation is finished. The NF2 package provides metrics that can be used to estimate the quality. Both the divergence and the angle between the currents and magnetic field should be small. (ideally mean divergence `<0.1` and sigma `<10` degree; the exact values depend on the selected active region and lambda weights)"
   ],
   "metadata": {
    "id": "ZklkaZOjHJUg"
   }
  },
  {
   "cell_type": "markdown",
   "source": [
    "From the save file we can load the full simulation volume."
   ],
   "metadata": {
    "id": "-EEaBAvoIwHT"
   }
  },
  {
   "cell_type": "code",
   "source": [
    "final_model_path = os.path.join(base_path, 'extrapolation_result.nf2')\n",
    "b = load_cube(final_model_path, progress=True)"
   ],
   "metadata": {
    "id": "KzP-QmwWHiHC"
   },
   "execution_count": null,
   "outputs": []
  },
  {
   "cell_type": "markdown",
   "source": [
    "The loaded mesh can be used to compute the divergence and the sigma angle."
   ],
   "metadata": {
    "id": "Q3I5u8oSSbKA"
   }
  },
  {
   "cell_type": "code",
   "source": [
    "div = np.abs(divergence(b)).mean()\n",
    "sigma = weighted_sigma(b)\n",
    "\n",
    "print('DIVERGENCE: %.04f; SIGMA %.04f' % (div, sigma))"
   ],
   "metadata": {
    "id": "Pnj8vZ1YSarz"
   },
   "execution_count": null,
   "outputs": []
  },
  {
   "cell_type": "markdown",
   "source": [
    "We can also compute maps of integrated current density."
   ],
   "metadata": {
    "id": "VtBgyVytQW7Q"
   }
  },
  {
   "cell_type": "code",
   "source": [
    "j = curl(b)\n",
    "plt.figure(figsize=(8,4))\n",
    "plt.imshow(vector_norm(j).sum(2).transpose(), origin='lower', cmap='inferno')\n",
    "plt.axis('off')\n",
    "plt.show()"
   ],
   "metadata": {
    "id": "YZYuXgvPQcqX"
   },
   "execution_count": null,
   "outputs": []
  },
  {
   "cell_type": "markdown",
   "source": [
    "By computing the potential field we can estimate the free magnetic energy, and visualize the result as integrated map. Here, we only consider the first 64 grid cells in height for faster computation."
   ],
   "metadata": {
    "id": "RCSKCiYQSEDP"
   }
  },
  {
   "cell_type": "code",
   "source": [
    "free_me = get_free_mag_energy(b[:, :, :64])\n",
    "plt.figure(figsize=(8,4))\n",
    "plt.imshow(free_me.sum(2).transpose(), origin='lower')\n",
    "plt.axis('off')\n",
    "plt.show()"
   ],
   "metadata": {
    "id": "QvxjBEGSSXXR"
   },
   "execution_count": null,
   "outputs": []
  },
  {
   "cell_type": "markdown",
   "source": [
    "## Export"
   ],
   "metadata": {
    "id": "ZyC2vVbza7fN"
   }
  },
  {
   "cell_type": "markdown",
   "source": [
    "VTK files can be used to visualize the extrapolation results (e.g., Paraview). We use `tvtk` for converting the files.\n",
    "The NF2 results require little storage (about 2 MB). It is faster to download the NF2 file and convert it on your local environment using the CPU resources.\n",
    "\n",
    "The code below can be used to convert files in Colab."
   ],
   "metadata": {
    "collapsed": false,
    "pycharm": {
     "name": "#%% md\n"
    },
    "id": "Ic38DF-DTFlW"
   }
  },
  {
   "cell_type": "code",
   "source": [
    "!pip install vtk==9.0.1\n",
    "!pip install mayavi"
   ],
   "metadata": {
    "id": "RnN9andvcdF8"
   },
   "execution_count": null,
   "outputs": []
  },
  {
   "cell_type": "code",
   "source": [
    "from nf2.evaluation.unpack import load_cube\n",
    "from nf2.evaluation.vtk import save_vtk"
   ],
   "metadata": {
    "id": "2F0OBfVZbEMr"
   },
   "execution_count": null,
   "outputs": []
  },
  {
   "cell_type": "code",
   "source": [
    "model_path = base_path + '/extrapolation_result.nf2'\n",
    "vtk_path = base_path + '/extrapolation_result.vtk'\n",
    "\n",
    "device = torch.device('cuda') if torch.cuda.is_available() else torch.device('cpu')\n",
    "b = load_cube(model_path, device, progress=True)\n",
    "save_vtk(b, vtk_path, 'B')"
   ],
   "metadata": {
    "id": "aphkhjLva6NK"
   },
   "execution_count": null,
   "outputs": []
  },
  {
   "cell_type": "markdown",
   "source": [
    "# Series of extrapolations"
   ],
   "metadata": {
    "id": "CjS3CgWqVL-d"
   }
  },
  {
   "cell_type": "markdown",
   "source": [
    "Starting from our previous extrapolation, we can significantly speed-up the extrapolation of the temporal evolution. For this we adapt the model sequentially by changing the boundary condition and re-training the model. This allows us to converge within few iterations per time step."
   ],
   "metadata": {
    "id": "K0FOZxs9YuEY"
   }
  },
  {
   "cell_type": "markdown",
   "source": [
    "We start by downloading the data. Fill the form below to select your time range. Note that we use the same start point and sharp as in the previous extrapolation (i.e., we require an initial extrapolation)."
   ],
   "metadata": {
    "id": "uWmovrrQZOsn"
   }
  },
  {
   "cell_type": "markdown",
   "source": [
    "To skip the initial training you can download the pre-trained state by running the code below."
   ],
   "metadata": {
    "id": "Zq-PHrsSD_2i"
   }
  },
  {
   "cell_type": "code",
   "source": [
    "request.urlretrieve('http://kanzelhohe.uni-graz.at/nf2/example_7115.nf2', 'example_7115.nf2')\n",
    "shutil.move('example_7115.nf2', os.path.join(base_path, 'extrapolation_result.nf2'))"
   ],
   "metadata": {
    "id": "8ncM70ydD9m0"
   },
   "execution_count": null,
   "outputs": []
  },
  {
   "cell_type": "markdown",
   "source": [
    "## Data download"
   ],
   "metadata": {
    "id": "y5aa-AaUa2F8"
   }
  },
  {
   "cell_type": "code",
   "source": [
    "#@title Paths\n",
    "series_base_path = None #@param {type:\"string\"}\n",
    "series_base_path = 'ar_series_%d_%s' % (sharp_nr, date.isoformat('T')) if series_base_path is None else series_base_path"
   ],
   "metadata": {
    "id": "huYZnK_MdJBg",
    "cellView": "form"
   },
   "execution_count": null,
   "outputs": []
  },
  {
   "cell_type": "code",
   "source": [
    "#@title Duration\n",
    "\n",
    "duration = '4h' # @param {type:\"string\"}\n",
    "series_download_dir = 'AR_7115_series' #@param {type:\"string\"}"
   ],
   "metadata": {
    "id": "GeCmtztYZeVR",
    "cellView": "form"
   },
   "execution_count": null,
   "outputs": []
  },
  {
   "cell_type": "markdown",
   "source": [
    "For downloading the series we use DRMS."
   ],
   "metadata": {
    "id": "OVv2TQRDaN59"
   }
  },
  {
   "cell_type": "code",
   "source": [
    "os.makedirs(series_download_dir, exist_ok=True)\n",
    "ds = 'hmi.sharp_cea_720s[%d][%s/%s]{Br, Bp, Bt, Br_err, Bp_err, Bt_err}' % \\\n",
    "     (sharp_nr, date.isoformat('_', timespec='seconds'), duration)\n",
    "donwload_ds(ds, series_download_dir, client)"
   ],
   "metadata": {
    "id": "KxTKFnvGVZ_Z"
   },
   "execution_count": null,
   "outputs": []
  },
  {
   "cell_type": "markdown",
   "source": [
    "## Training"
   ],
   "metadata": {
    "id": "5fJA0__UbA8r"
   }
  },
  {
   "cell_type": "code",
   "source": [
    "# settings are equivalent to 10 epochs of the previous configuration\n",
    "series_iterations = 2000 # @param {type:\"integer\"}\n",
    "series_iterations = int(series_iterations)\n",
    "series_batch_size = 1e4 #@param {type:\"number\"}\n",
    "series_batch_size = int(batch_size)\n",
    "series_log_interval = 2000 # @param {type:\"integer\"}\n",
    "series_validation_interval = -1 # @param {type:\"integer\"}\n"
   ],
   "metadata": {
    "id": "GE0kJjioo6bn",
    "cellView": "form"
   },
   "execution_count": null,
   "outputs": []
  },
  {
   "cell_type": "markdown",
   "source": [
    "If you want to start from a different state (e.g., other active region), you can specify your extrapolation file below (checkpoint.pt or extrapolation_result.nf2)."
   ],
   "metadata": {
    "id": "KZnOwVlkFC6W"
   }
  },
  {
   "cell_type": "code",
   "source": [
    "# load the inital model from our previous training\n",
    "new_meta_path = os.path.join(base_path, 'extrapolation_result.nf2') # @param {type:\"raw\"}"
   ],
   "metadata": {
    "id": "-X1ydLGHXtJk"
   },
   "execution_count": null,
   "outputs": []
  },
  {
   "cell_type": "markdown",
   "source": [
    "For the series training we perform for each observation the data pre-processing and perform the extrapolation with the state of the previous iteration."
   ],
   "metadata": {
    "id": "RMN5yG8IFadm"
   }
  },
  {
   "cell_type": "code",
   "source": [
    "# scan all data files\n",
    "hmi_p_files = sorted(glob.glob(os.path.join(series_download_dir, '*Bp.fits')))  # x\n",
    "hmi_t_files = sorted(glob.glob(os.path.join(series_download_dir, '*Bt.fits')))  # y\n",
    "hmi_r_files = sorted(glob.glob(os.path.join(series_download_dir, '*Br.fits')))  # z\n",
    "err_p_files = sorted(glob.glob(os.path.join(series_download_dir, '*Bp_err.fits')))  # x\n",
    "err_t_files = sorted(glob.glob(os.path.join(series_download_dir, '*Bt_err.fits')))  # y\n",
    "err_r_files = sorted(glob.glob(os.path.join(series_download_dir, '*Br_err.fits')))  # z\n",
    "\n",
    "for hmi_p, hmi_t, hmi_r, err_p, err_t, err_r in zip(hmi_p_files, hmi_t_files, hmi_r_files,\n",
    "                                                    err_p_files, err_t_files, err_r_files):\n",
    "    file_id = os.path.basename(hmi_p).split('.')[3]\n",
    "    bp = os.path.join(series_base_path, file_id)\n",
    "\n",
    "    # check if finished\n",
    "    final_model_path = os.path.join(bp, 'final.pt')\n",
    "    if os.path.exists(final_model_path):\n",
    "        new_meta_path = final_model_path\n",
    "        continue\n",
    "    \n",
    "    # data pre-processing; same as for the single extrapolation\n",
    "    hmi_cube, error_cube, meta_info = load_hmi_data([hmi_p, err_p, hmi_r, err_r, hmi_t, err_t])\n",
    "    if d_slice is not None:\n",
    "      hmi_cube = hmi_cube[d_slice[0]:d_slice[1], d_slice[2]:d_slice[3]]\n",
    "      error_cube = error_cube[d_slice[0]:d_slice[1], d_slice[2]:d_slice[3]]\n",
    "    if bin > 1:\n",
    "      hmi_cube = block_reduce(hmi_cube, (bin, bin, 1), np.mean)\n",
    "      error_cube = block_reduce(error_cube, (bin, bin, 1), np.mean)\n",
    "    trainer = NF2Trainer(bp, hmi_cube, error_cube, height, spatial_norm, b_norm, \n",
    "                         dim=dim,\n",
    "                         lambda_div=lambda_div, lambda_ff=lambda_ff,\n",
    "                         meta_path=new_meta_path, use_potential_boundary=potential)\n",
    "    trainer.train(series_iterations, series_batch_size, \n",
    "                  series_log_interval, series_validation_interval)\n",
    "    new_meta_path = final_model_path"
   ],
   "metadata": {
    "id": "eY00KFBacvh0"
   },
   "execution_count": null,
   "outputs": []
  },
  {
   "cell_type": "markdown",
   "source": [
    "## Evaluation"
   ],
   "metadata": {
    "id": "4h0zv5FQX_TN"
   }
  },
  {
   "cell_type": "markdown",
   "source": [
    "With the extrapolated series we can now track the change in magnetic energy, free magnetic energy, and identify the position of flare occurence.\n",
    "\n",
    "Note that we only compute the free magnetic energy for the first 20 Mm and reduce the spatial resolution (strides=4)."
   ],
   "metadata": {
    "id": "2KDMPjGR-Ctn"
   }
  },
  {
   "cell_type": "code",
   "source": [
    "nf2_paths = sorted(glob.glob(os.path.join(series_base_path, '**', 'extrapolation_result.nf2')))\n",
    "Mm_per_pix = 360e-3\n",
    "strides = 2\n",
    "z_pixels = int(np.ceil(20 / (2 * Mm_per_pix)))  # 20 Mm --> pixels; bin2\n",
    "\n",
    "# save results as npy files\n",
    "evaluation_path = os.path.join(series_base_path, 'evaluation')\n",
    "os.makedirs(evaluation_path, exist_ok=True)\n",
    "free_energy_files = []\n",
    "for path in nf2_paths:\n",
    "  b = load_cube(path, progress=True, z=z_pixels, strides=strides)\n",
    "  free_me = get_free_mag_energy(b)\n",
    "  f = os.path.join(evaluation_path, '%s.npy' % path.split('/')[-2])\n",
    "  np.save(f, free_me)\n",
    "  free_energy_files += [f]\n",
    "\n",
    "series_dates = [datetime.strptime(os.path.basename(f), '%Y%m%d_%H%M%S_TAI.npy') for f in free_energy_files]"
   ],
   "metadata": {
    "id": "txaGd277YA_-"
   },
   "execution_count": null,
   "outputs": []
  },
  {
   "cell_type": "code",
   "source": [
    "# plot the free magnetic evolution\n",
    "fig, axs = plt.subplots(1, len(free_energy_files), figsize=(len(free_energy_files) * 3, 6))\n",
    "for f, ax, d in zip(free_energy_files, axs, series_dates):\n",
    "  free_me = np.load(f)\n",
    "  ax.imshow(free_me.sum(2).transpose() * strides ** 3, vmin=0, vmax=1e6, origin='lower')\n",
    "  ax.set_title(d.isoformat(' '))\n",
    "  ax.set_axis_off()\n",
    "\n",
    "plt.tight_layout()\n",
    "plt.show()"
   ],
   "metadata": {
    "id": "KmiihO4D8w1r"
   },
   "execution_count": null,
   "outputs": []
  },
  {
   "cell_type": "code",
   "source": [
    "# plot the energy depletion\n",
    "prev_me = None\n",
    "fig, axs = plt.subplots(1, len(free_energy_files), figsize=((len(free_energy_files)) * 3, 6))\n",
    "for f, ax, d in zip(free_energy_files, axs, series_dates):\n",
    "  free_me = np.load(f)\n",
    "  if prev_me is None:\n",
    "    prev_me = free_me\n",
    "  ax.imshow(np.clip(free_me - prev_me, 0, None).sum(2).transpose() * strides ** 3, vmin=0, vmax=1e5, origin='lower')\n",
    "  ax.set_title(d.isoformat(' '))\n",
    "  ax.set_axis_off()\n",
    "  prev_me = free_me\n",
    "\n",
    "plt.tight_layout()\n",
    "plt.show()"
   ],
   "metadata": {
    "id": "0KwLS1vv89hJ"
   },
   "execution_count": null,
   "outputs": []
  },
  {
   "cell_type": "markdown",
   "source": [
    "Registered flares in this sequence (2017-09-06 08:36 - 12:24): X2.2 - 08:57; C5.4 - 10:13; X9.3 - 11:53"
   ],
   "metadata": {
    "id": "Lby5AjxY_NO0"
   }
  },
  {
   "cell_type": "code",
   "source": [
    "# plot the integrated free magnetic energy\n",
    "plt.figure(figsize=(9, 3))\n",
    "plt.plot(series_dates, [np.load(f).sum() * strides ** 3 for f in free_energy_files])\n",
    "plt.ylabel('total free magnetic energy')\n",
    "plt.show()"
   ],
   "metadata": {
    "id": "KOpBr-s1_Y93"
   },
   "execution_count": null,
   "outputs": []
  },
  {
   "cell_type": "code",
   "source": [],
   "metadata": {
    "id": "XEMIl6UW4Ipb"
   },
   "execution_count": null,
   "outputs": []
  }
 ]
}