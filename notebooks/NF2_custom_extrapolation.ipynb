{
 "nbformat": 4,
 "nbformat_minor": 0,
 "metadata": {
  "colab": {
   "provenance": [],
   "gpuType": "T4"
  },
  "kernelspec": {
   "name": "python3",
   "display_name": "Python 3 (ipykernel)",
   "language": "python"
  },
  "language_info": {
   "name": "python"
  },
  "accelerator": "GPU"
 },
 "cells": [
  {
   "cell_type": "markdown",
   "source": [
    "# Neural Network Force-Free magnetic field extrapolation - NF2\n",
    "<img src=\"https://github.com/RobertJaro/NF2/blob/main/images/logo.jpg?raw=true\" width=\"150\" height=\"150\">\n",
    "\n",
    "This notebook provides basic NF2 extrapolations of custom magnetograms. Fill the form below to start the extrapolation.\n",
    "\n",
    "Run all sections below to start your non-linear force-free extrapolation. Extrapolations take about 6 hours to complete in Google Colab. All results are logged to Weights And Biases (https://wandb.ai). If you want to continue an interrupted run, fill the WandB section.\n",
    "\n",
    "GitHub Page: https://github.com/RobertJaro/NF2\n"
   ],
   "metadata": {
    "id": "v_e2_34GKe4s"
   }
  },
  {
   "cell_type": "markdown",
   "source": [
    "#Install NF2"
   ],
   "metadata": {
    "id": "LjKmZKM2dKZz"
   }
  },
  {
   "cell_type": "code",
   "metadata": {
    "id": "qBle4tJeJP6O"
   },
   "source": [
    "!pip install git+https://github.com/RobertJaro/NF2\n",
    "\n",
    "from nf2.extrapolate import run"
   ],
   "outputs": [],
   "execution_count": null
  },
  {
   "cell_type": "markdown",
   "source": [
    "# Extrapolation"
   ],
   "metadata": {
    "id": "VgzWQC98RECn"
   }
  },
  {
   "cell_type": "code",
   "metadata": {
    "cellView": "form",
    "id": "iJaeLqddRY8e"
   },
   "source": [
    "#@markdown select directory for saving extrapolation results\n",
    "base_path = 'extrapolation_result' #@param {type:\"string\"}"
   ],
   "outputs": [],
   "execution_count": null
  },
  {
   "cell_type": "code",
   "metadata": {
    "cellView": "form",
    "id": "QCMzy2_vR4YM"
   },
   "source": [
    "#@title Data configuration\n",
    "\n",
    "#@markdown Insert FITS files\n",
    "br_path = '' #@param {type:\"string\"}\n",
    "bt_path = '' #@param {type:\"string\"}\n",
    "bp_path = '' #@param {type:\"string\"}\n",
    "\n",
    "#@markdown Insert FITS error files (optional)\n",
    "br_error_path = '' #@param {type:\"string\"}\n",
    "bt_error_path = '' #@param {type:\"string\"}\n",
    "bp_error_path = '' #@param {type:\"string\"}\n",
    "\n",
    "br_error_path = None if br_error_path == '' else br_error_path\n",
    "bt_error_path = None if bt_error_path == '' else bt_error_path\n",
    "bp_error_path = None if bp_error_path == '' else bp_error_path\n",
    "\n",
    "#@markdown Load header information from SunPy Map or only read the FITS data\n",
    "load_map = False #@param {type:\"boolean\"}\n",
    "\n",
    "#@markdown Insert the pixel size in Mm (SHARP = 0.36 Mm)\n",
    "Mm_per_pixel = 0.36 #@param {type:\"number\"}\n",
    "\n",
    "data_config = {\n",
    "  'type': 'fits',\n",
    "  'slices': {\n",
    "      'fits_path' : {\n",
    "        'Br': br_path,\n",
    "        'Bt': bt_path,\n",
    "        'Bp': bp_path\n",
    "      },\n",
    "      'Mm_per_pixel': Mm_per_pixel,\n",
    "      'load_map': load_map,\n",
    "  },\n",
    "  'iterations': 10000\n",
    "}\n",
    "\n",
    "if br_error_path is not None and bt_error_path is not None and bp_error_path is not None:\n",
    "  data_config['slices']['error_path'] = {'Br_err': br_error_path, 'Bt_err': bt_error_path, 'Bp_err': bp_error_path}"
   ],
   "outputs": [],
   "execution_count": null
  },
  {
   "cell_type": "code",
   "source": [
    "#@title Logging Settings\n",
    "entity = \"\" #@param {type:\"string\"}\n",
    "project = \"nf2\" #@param {type:\"string\"}\n",
    "#@markdown Enter your credentials if you want to continue an interrupted run. This will restore the latest model and continue the training.\n",
    "continue_training = False #@param {type:\"boolean\"}\n",
    "id = \"\" #@param {type:\"string\"}\n",
    "\n",
    "entity = None if entity == \"\" else entity\n",
    "project = None if project == \"\" else project\n",
    "logging_config = {'log_model': 'all', 'entity': entity, 'project': project}\n",
    "\n",
    "if continue_training:\n",
    "  logging_config['id'] = id"
   ],
   "metadata": {
    "cellView": "form",
    "id": "Avh_MFrzdLVr"
   },
   "outputs": [],
   "execution_count": null
  },
  {
   "cell_type": "code",
   "source": [
    "#@title Advanced model settings\n",
    "use_custom_settings = False #@param {type:\"boolean\"}\n",
    "#@markdown Set `vector_potential` if you want to run a divergence-free extrapolation\n",
    "vector_potential = False #@param {type:\"boolean\"}\n",
    "#@markdown Change `dim` to set the available free parameters. Lower values reduce the runtime but may decrease the quality of the extrapolation. Use 256 for the standard setting and 64 for quick tests.\n",
    "dim = 256 #@param {type:\"number\"}\n",
    "\n",
    "if use_custom_settings:\n",
    "  model_config = {'type': 'vector_potential' if vector_potential else 'b',\n",
    "                  'dim': dim}\n",
    "else:\n",
    "  model_config = None"
   ],
   "metadata": {
    "cellView": "form",
    "id": "DIF8N5VcWOg0"
   },
   "outputs": [],
   "execution_count": null
  },
  {
   "cell_type": "code",
   "source": [
    "#@title Advanced training settings\n",
    "use_custom_settings = False #@param {type:\"boolean\"}\n",
    "#@markdown Change the weighting of the force-free condition\n",
    "lambda_ff = 0.1 #@param {type:\"number\"}\n",
    "#@markdown Change the weighting of the divergence-free condition\n",
    "lambda_div = 0.1 #@param {type:\"number\"}\n",
    "#@markdown Change the weighting of the boundary condition\n",
    "lambda_boundary = 1.0 #@param {type:\"number\"}\n",
    "\n",
    "\n",
    "\n",
    "if use_custom_settings:\n",
    "  boundary_loss = {'type': 'boundary', 'name': 'boundary', 'lambda': lambda_boundary,\n",
    "                 'ds_id': ['boundary_01', 'potential']}\n",
    "  force_free_loss = {'type': 'force_free', 'lambda': lambda_ff}\n",
    "  divergence_free_loss = {'type': 'divergence', 'lambda': lambda_div}\n",
    "\n",
    "  training_config = {'loss_config': [boundary_loss, force_free_loss, divergence_free_loss]}\n",
    "else:\n",
    "  training_config = {}"
   ],
   "metadata": {
    "cellView": "form",
    "id": "fQRYPHNfXR_g"
   },
   "outputs": [],
   "execution_count": null
  },
  {
   "cell_type": "markdown",
   "source": [
    "## Start Extrapolation\n",
    "For the first run you will be redirected to the WandB login. Login with your existing user or register a new user to log your results online."
   ],
   "metadata": {
    "id": "7gwv-nIXbpW8"
   }
  },
  {
   "cell_type": "code",
   "source": [
    "run(base_path, data=data_config,\n",
    "    logging=logging_config,\n",
    "    training=training_config,\n",
    "    model=model_config)"
   ],
   "metadata": {
    "id": "MMROBK3DRt2A"
   },
   "outputs": [],
   "execution_count": null
  }
 ]
}
