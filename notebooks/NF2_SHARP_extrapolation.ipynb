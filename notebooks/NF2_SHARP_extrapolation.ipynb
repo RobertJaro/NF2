{
 "nbformat": 4,
 "nbformat_minor": 0,
 "metadata": {
  "colab": {
   "provenance": [],
   "gpuType": "T4"
  },
  "kernelspec": {
   "name": "python3",
   "display_name": "Python 3"
  },
  "language_info": {
   "name": "python"
  },
  "accelerator": "GPU"
 },
 "cells": [
  {
   "cell_type": "markdown",
   "source": [
    "# Neural Network Force-Free magnetic field extrapolation - NF2\n",
    "<img src=\"https://github.com/RobertJaro/NF2/blob/main/images/logo.jpg?raw=true\" width=\"150\" height=\"150\">\n",
    "\n",
    "This notebook provides basic NF2 extrapolations of SHARP regions (SDO/HMI). Fill the form below to select your observation and start the extrapolation.\n",
    "\n",
    "Run all sections below to start your non-linear force-free extrapolation. Extrapolations take about 6 hours to complete in Google Colab. All results are logged to Weights And Biases (https://wandb.ai). If you want to continue an interrupted run, fill the WandB section.\n",
    "\n",
    "GitHub Page: https://github.com/RobertJaro/NF2\n"
   ],
   "metadata": {
    "id": "v_e2_34GKe4s"
   }
  },
  {
   "cell_type": "markdown",
   "source": [
    "#Install NF2"
   ],
   "metadata": {
    "id": "LjKmZKM2dKZz"
   }
  },
  {
   "cell_type": "code",
   "execution_count": null,
   "metadata": {
    "id": "qBle4tJeJP6O"
   },
   "outputs": [],
   "source": [
    "!pip install git+https://github.com/RobertJaro/NF2@v0.3.0\n",
    "\n",
    "from nf2.data.download import download_SHARP_series\n",
    "from nf2.extrapolate import run\n",
    "# util functions\n",
    "from datetime import datetime"
   ]
  },
  {
   "cell_type": "markdown",
   "source": [
    "# Data Download"
   ],
   "metadata": {
    "id": "VYJL8JtUNXwa"
   }
  },
  {
   "cell_type": "markdown",
   "source": [
    "Downloading data requires an active registration at JSOC. http://jsoc.stanford.edu/ajax/register_email.html"
   ],
   "metadata": {
    "id": "DNa_LMbPNalC"
   }
  },
  {
   "cell_type": "code",
   "execution_count": null,
   "metadata": {
    "cellView": "form",
    "id": "wJRSB1NV--Bb"
   },
   "outputs": [],
   "source": [
    "#@title Download Credentials\n",
    "jsoc_email = 'robert.jarolim@uni-graz.at' #@param {type:\"string\"}"
   ]
  },
  {
   "cell_type": "code",
   "execution_count": null,
   "metadata": {
    "id": "2zVLpXBf2oQN",
    "cellView": "form"
   },
   "outputs": [],
   "source": [
    "#@title Date of observation\n",
    "year = 2017 #@param {type:\"integer\"}\n",
    "month = 9 #@param {type:\"integer\"}\n",
    "day = 6 #@param {type:\"integer\"}\n",
    "hour = 8 #@param {type:\"integer\"}\n",
    "minute = 36 #@param {type:\"number\"}\n",
    "\n",
    "date = datetime(year, month, day, hour, minute)"
   ]
  },
  {
   "cell_type": "code",
   "execution_count": null,
   "metadata": {
    "id": "nDUBoZ3-86en",
    "cellView": "form"
   },
   "outputs": [],
   "source": [
    "#@title Active Region\n",
    "#@markdown specify either the NOAA or SHARP number of the active region\n",
    "noaa_num = 12673 #@param {type:\"number\"}\n",
    "sharp_num = None #@param {type:\"number\"}\n",
    "\n",
    "download_dir = 'AR_12673' #@param {type:\"string\"}\n"
   ]
  },
  {
   "cell_type": "code",
   "source": [
    "download_result = download_SHARP_series(download_dir=download_dir,\n",
    "                                        email=jsoc_email, t_start=date,\n",
    "                                        noaa_num=noaa_num, sharp_num=sharp_num)\n",
    "download_result"
   ],
   "metadata": {
    "id": "kPaLqvylOR7_"
   },
   "execution_count": null,
   "outputs": []
  },
  {
   "cell_type": "markdown",
   "source": [
    "# Extrapolation"
   ],
   "metadata": {
    "id": "VgzWQC98RECn"
   }
  },
  {
   "cell_type": "code",
   "execution_count": null,
   "metadata": {
    "cellView": "form",
    "id": "iJaeLqddRY8e"
   },
   "outputs": [],
   "source": [
    "#@title Storage path\n",
    "base_path = 'extrapolation_AR12673' #@param {type:\"string\"}"
   ]
  },
  {
   "cell_type": "code",
   "execution_count": null,
   "metadata": {
    "cellView": "form",
    "id": "QCMzy2_vR4YM"
   },
   "outputs": [],
   "source": [
    "#@title Data configuration\n",
    "#@markdown select directory for saving extrapolation results\n",
    "base_path = 'extrapolation_AR12673' #@param {type:\"string\"}\n",
    "\n",
    "#@markdown insert downloaded SHARP files\n",
    "br_path = '/content/AR_12673/hmi.sharp_cea_720s.7115.20170906_083600_TAI.Br.fits' #@param {type:\"string\"}\n",
    "bt_path = '/content/AR_12673/hmi.sharp_cea_720s.7115.20170906_083600_TAI.Bt.fits' #@param {type:\"string\"}\n",
    "bp_path = '/content/AR_12673/hmi.sharp_cea_720s.7115.20170906_083600_TAI.Bp.fits' #@param {type:\"string\"}\n",
    "\n",
    "#@markdown insert downloaded SHARP error files (optional)\n",
    "use_error_files = True #@param {type:\"boolean\"}\n",
    "br_error_path = '/content/AR_12673/hmi.sharp_cea_720s.7115.20170906_083600_TAI.Br_err.fits' #@param {type:\"string\"}\n",
    "bt_error_path = '/content/AR_12673/hmi.sharp_cea_720s.7115.20170906_083600_TAI.Bt_err.fits' #@param {type:\"string\"}\n",
    "bp_error_path = '/content/AR_12673/hmi.sharp_cea_720s.7115.20170906_083600_TAI.Bp_err.fits' #@param {type:\"string\"}\n",
    "\n",
    "data_config = {\n",
    "  'type': 'fits',\n",
    "  'slices': [{\n",
    "      'fits_path' : {\n",
    "        'Br': br_path,\n",
    "        'Bt': bt_path,\n",
    "        'Bp': bp_path\n",
    "      }\n",
    "  }],\n",
    "  'iterations': 10000\n",
    "}\n",
    "\n",
    "if use_error_files:\n",
    "  data_config['slices'][0]['error_path'] = {'Br_err': br_error_path,\n",
    "                                         'Bt_err': bt_error_path,\n",
    "                                         'Bp_err': bp_error_path}"
   ]
  },
  {
   "cell_type": "code",
   "source": [
    "#@title Logging Settings\n",
    "entity = \"\" #@param {type:\"string\"}\n",
    "project = \"nf2\" #@param {type:\"string\"}\n",
    "#@markdown Enter your credentials if you want to continue an interrupted run. This will restore the latest model and continue the training.\n",
    "continue_training = False #@param {type:\"boolean\"}\n",
    "id = \"\" #@param {type:\"string\"}\n",
    "\n",
    "entity = None if entity == \"\" else entity\n",
    "project = None if project == \"\" else project\n",
    "logging_config = {'log_model': 'all', 'entity': entity, 'project': project}\n",
    "\n",
    "if continue_training:\n",
    "  logging_config['id'] = id"
   ],
   "metadata": {
    "cellView": "form",
    "id": "Avh_MFrzdLVr"
   },
   "execution_count": null,
   "outputs": []
  },
  {
   "cell_type": "code",
   "source": [
    "#@title Advanced model settings\n",
    "use_custom_settings = False #@param {type:\"boolean\"}\n",
    "#@markdown Set `vector_potential` if you want to run a divergence-free extrapolation\n",
    "vector_potential = False #@param {type:\"boolean\"}\n",
    "#@markdown Change `dim` to set the available free parameters. Lower values reduce the runtime but may decrease the quality of the extrapolation. Use 256 for the standard setting and 64 for quick tests.\n",
    "dim = 256 #@param {type:\"number\"}\n",
    "\n",
    "if use_custom_settings:\n",
    "  model_config = {'type': 'vector_potential' if vector_potential else 'b',\n",
    "                  'dim': dim}\n",
    "else:\n",
    "  model_config = None"
   ],
   "metadata": {
    "cellView": "form",
    "id": "DIF8N5VcWOg0"
   },
   "execution_count": null,
   "outputs": []
  },
  {
   "cell_type": "code",
   "source": [
    "#@title Advanced training settings\n",
    "use_custom_settings = False #@param {type:\"boolean\"}\n",
    "#@markdown Change the weighting of the force-free condition\n",
    "lambda_ff = 0.1 #@param {type:\"number\"}\n",
    "#@markdown Change the weighting of the divergence-free condition\n",
    "lambda_div = 0.1 #@param {type:\"number\"}\n",
    "#@markdown Change the weighting of the boundary condition\n",
    "lambda_boundary = 1.0 #@param {type:\"number\"}\n",
    "\n",
    "\n",
    "\n",
    "if use_custom_settings:\n",
    "  boundary_loss = {'type': 'boundary', 'name': 'boundary', 'lambda': lambda_boundary,\n",
    "                 'ds_id': ['boundary_01', 'potential']}\n",
    "  force_free_loss = {'type': 'force_free', 'lambda': lambda_ff}\n",
    "  divergence_free_loss = {'type': 'divergence', 'lambda': lambda_div}\n",
    "\n",
    "  training_config = {'loss_config': [boundary_loss, force_free_loss, divergence_free_loss]}\n",
    "else:\n",
    "  training_config = {}"
   ],
   "metadata": {
    "cellView": "form",
    "id": "fQRYPHNfXR_g"
   },
   "execution_count": null,
   "outputs": []
  },
  {
   "cell_type": "markdown",
   "source": [
    "## Start Extrapolation\n",
    "For the first run you will be redirected to the WandB login. Login with your existing user or register a new user to log your results online."
   ],
   "metadata": {
    "id": "7gwv-nIXbpW8"
   }
  },
  {
   "cell_type": "code",
   "source": [
    "run(base_path, data=data_config,\n",
    "    logging=logging_config,\n",
    "    training=training_config,\n",
    "    model=model_config)"
   ],
   "metadata": {
    "id": "MMROBK3DRt2A"
   },
   "execution_count": null,
   "outputs": []
  },
  {
   "cell_type": "code",
   "source": [],
   "metadata": {
    "id": "7wGGAZZWewz_"
   },
   "execution_count": null,
   "outputs": []
  }
 ]
}
