{
  "nbformat": 4,
  "nbformat_minor": 0,
  "metadata": {
    "colab": {
      "provenance": [],
      "gpuType": "T4"
    },
    "kernelspec": {
      "name": "python3",
      "display_name": "Python 3"
    },
    "language_info": {
      "name": "python"
    },
    "accelerator": "GPU"
  },
  "cells": [
    {
      "cell_type": "markdown",
      "source": [
        "# Neural Network Force-Free magnetic field extrapolation - NF2\n",
        "<img src=\"https://github.com/RobertJaro/NF2/blob/main/images/logo.jpg?raw=true\" width=\"150\" height=\"150\">\n",
        "\n",
        "This notebook provides conversions of NF2 files to common output formats.\n",
        "\n",
        "GitHub Page: https://github.com/RobertJaro/NF2\n"
      ],
      "metadata": {
        "id": "v_e2_34GKe4s"
      }
    },
    {
      "cell_type": "markdown",
      "source": [
        "#Install NF2"
      ],
      "metadata": {
        "id": "LjKmZKM2dKZz"
      }
    },
    {
      "cell_type": "code",
      "execution_count": null,
      "metadata": {
        "id": "qBle4tJeJP6O"
      },
      "outputs": [],
      "source": [
        "!pip install git+https://github.com/RobertJaro/NF2@v0.3.0\n",
        "\n",
        "from nf2.evaluation.output import CartesianOutput"
      ]
    },
    {
      "cell_type": "markdown",
      "source": [
        "# Load NF2 result"
      ],
      "metadata": {
        "id": "qRxa8Wq7LBCx"
      }
    },
    {
      "cell_type": "code",
      "source": [
        "#@title Upload your NF2 file and specify path\n",
        "nf2_path = 'extrapolation_result.nf2' #@param {type:\"string\"}"
      ],
      "metadata": {
        "id": "ZBlqkLx3JTy_"
      },
      "execution_count": null,
      "outputs": []
    },
    {
      "cell_type": "code",
      "source": [
        "#@title Custom resolution and height (Mm)\n",
        "Mm_per_pixel = 0.72 #@param {type:\"number\"}\n",
        "max_height = 80 #@param {type:\"number\"}"
      ],
      "metadata": {
        "id": "OAXFjg22KM_a"
      },
      "execution_count": null,
      "outputs": []
    },
    {
      "cell_type": "markdown",
      "source": [
        "The NF2 `CartesianOutput` loads all information from the NF2 file. It can be used to load custom coordinates or the full data cube as secified in the NF2 file. If no `Mm_per_pixel` and `height_range` are specified, the default values from the extrapolation are used. For full resolution SHARPs this can require a lot of memory and computing time."
      ],
      "metadata": {
        "id": "RhzkCQILQ_7I"
      }
    },
    {
      "cell_type": "code",
      "source": [
        "nf2_out = CartesianOutput(nf2_path)\n",
        "output = nf2_out.load_cube(Mm_per_pixel=Mm_per_pixel, height_range=[0, max_height], progress=True)"
      ],
      "metadata": {
        "id": "7wGGAZZWewz_"
      },
      "execution_count": null,
      "outputs": []
    },
    {
      "cell_type": "code",
      "source": [
        "print('NF2 Outputs:')\n",
        "for k, v in output.items():\n",
        "  print(f'{k} : {v.shape if hasattr(v, \"shape\") else v}')"
      ],
      "metadata": {
        "id": "sqk7FqtuKrRe"
      },
      "execution_count": null,
      "outputs": []
    },
    {
      "cell_type": "markdown",
      "source": [
        "# Convert NF2 to VTK"
      ],
      "metadata": {
        "id": "ReP6XcloMxxj"
      }
    },
    {
      "cell_type": "markdown",
      "source": [
        "Convert NF2 file to VTK for visualization in Paraview. This requires the installation of TVTK (mayavi)."
      ],
      "metadata": {
        "id": "ifaXxJQmNVXC"
      }
    },
    {
      "cell_type": "code",
      "source": [
        "!pip install mayavi"
      ],
      "metadata": {
        "id": "UOCOzk8xNBqs"
      },
      "execution_count": null,
      "outputs": []
    },
    {
      "cell_type": "code",
      "source": [
        "!nf2-to-vtk --nf2_path \"extrapolation_result.nf2\" --out_path \"extrapolation_result.vtk\" --Mm_per_pixel 0.72"
      ],
      "metadata": {
        "id": "liD0hiTiMYuU"
      },
      "execution_count": null,
      "outputs": []
    },
    {
      "cell_type": "markdown",
      "source": [
        "# Convert NF2 to other formats"
      ],
      "metadata": {
        "id": "2FSnk4u0ODLG"
      }
    },
    {
      "cell_type": "code",
      "source": [
        "!nf2-to-npy --nf2_path \"extrapolation_result.nf2\" --out_path \"extrapolation_result.npy\" --Mm_per_pixel 0.72"
      ],
      "metadata": {
        "id": "Q-KgGiGOOGxI"
      },
      "execution_count": null,
      "outputs": []
    },
    {
      "cell_type": "code",
      "source": [
        "!nf2-to-hdf5 --nf2_path \"extrapolation_result.nf2\" --out_path \"extrapolation_result.hdf5\" --Mm_per_pixel 0.72"
      ],
      "metadata": {
        "id": "mh2yFO-cO4yL"
      },
      "execution_count": null,
      "outputs": []
    },
    {
      "cell_type": "code",
      "source": [
        "!nf2-to-fits --nf2_path \"extrapolation_result.nf2\" --out_path \"extrapolation_result.fits\" --Mm_per_pixel 0.72"
      ],
      "metadata": {
        "id": "r8q8xULwPCQ7"
      },
      "execution_count": null,
      "outputs": []
    }
  ]
}